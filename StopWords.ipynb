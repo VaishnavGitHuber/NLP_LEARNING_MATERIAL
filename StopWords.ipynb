{
  "nbformat": 4,
  "nbformat_minor": 0,
  "metadata": {
    "colab": {
      "provenance": []
    },
    "kernelspec": {
      "name": "python3",
      "display_name": "Python 3"
    },
    "language_info": {
      "name": "python"
    }
  },
  "cells": [
    {
      "cell_type": "markdown",
      "source": [
        "### STOPWORDS\n",
        "* Stop words are a set of commonly used words in a language. Examples of stop words in English are “a,” “the,” “is,” “are,” etc. Stop words are commonly used in Text Mining and Natural Language Processing (NLP) to eliminate words that are so widely used that they carry very little useful information."
      ],
      "metadata": {
        "id": "HVrZKejgakC0"
      }
    },
    {
      "cell_type": "code",
      "execution_count": 17,
      "metadata": {
        "id": "cq09u5CeahnC"
      },
      "outputs": [],
      "source": [
        "from nltk import download\n",
        "from nltk.corpus import stopwords"
      ]
    },
    {
      "cell_type": "code",
      "source": [
        "# Downloading the stop words\n",
        "download('stopwords')"
      ],
      "metadata": {
        "colab": {
          "base_uri": "https://localhost:8080/"
        },
        "id": "MkZPHaERbTWO",
        "outputId": "2ec9a86a-8d1b-44eb-badc-64107ff4dd92"
      },
      "execution_count": 18,
      "outputs": [
        {
          "output_type": "stream",
          "name": "stderr",
          "text": [
            "[nltk_data] Downloading package stopwords to /root/nltk_data...\n",
            "[nltk_data]   Package stopwords is already up-to-date!\n"
          ]
        },
        {
          "output_type": "execute_result",
          "data": {
            "text/plain": [
              "True"
            ]
          },
          "metadata": {},
          "execution_count": 18
        }
      ]
    },
    {
      "cell_type": "code",
      "source": [
        "# stop words for english language\n",
        "stopwords.words('english')"
      ],
      "metadata": {
        "colab": {
          "base_uri": "https://localhost:8080/"
        },
        "id": "iJAmymEhbVz1",
        "outputId": "7305ff48-f3f2-4940-e6b4-6a8404f72102"
      },
      "execution_count": 19,
      "outputs": [
        {
          "output_type": "execute_result",
          "data": {
            "text/plain": [
              "['i',\n",
              " 'me',\n",
              " 'my',\n",
              " 'myself',\n",
              " 'we',\n",
              " 'our',\n",
              " 'ours',\n",
              " 'ourselves',\n",
              " 'you',\n",
              " \"you're\",\n",
              " \"you've\",\n",
              " \"you'll\",\n",
              " \"you'd\",\n",
              " 'your',\n",
              " 'yours',\n",
              " 'yourself',\n",
              " 'yourselves',\n",
              " 'he',\n",
              " 'him',\n",
              " 'his',\n",
              " 'himself',\n",
              " 'she',\n",
              " \"she's\",\n",
              " 'her',\n",
              " 'hers',\n",
              " 'herself',\n",
              " 'it',\n",
              " \"it's\",\n",
              " 'its',\n",
              " 'itself',\n",
              " 'they',\n",
              " 'them',\n",
              " 'their',\n",
              " 'theirs',\n",
              " 'themselves',\n",
              " 'what',\n",
              " 'which',\n",
              " 'who',\n",
              " 'whom',\n",
              " 'this',\n",
              " 'that',\n",
              " \"that'll\",\n",
              " 'these',\n",
              " 'those',\n",
              " 'am',\n",
              " 'is',\n",
              " 'are',\n",
              " 'was',\n",
              " 'were',\n",
              " 'be',\n",
              " 'been',\n",
              " 'being',\n",
              " 'have',\n",
              " 'has',\n",
              " 'had',\n",
              " 'having',\n",
              " 'do',\n",
              " 'does',\n",
              " 'did',\n",
              " 'doing',\n",
              " 'a',\n",
              " 'an',\n",
              " 'the',\n",
              " 'and',\n",
              " 'but',\n",
              " 'if',\n",
              " 'or',\n",
              " 'because',\n",
              " 'as',\n",
              " 'until',\n",
              " 'while',\n",
              " 'of',\n",
              " 'at',\n",
              " 'by',\n",
              " 'for',\n",
              " 'with',\n",
              " 'about',\n",
              " 'against',\n",
              " 'between',\n",
              " 'into',\n",
              " 'through',\n",
              " 'during',\n",
              " 'before',\n",
              " 'after',\n",
              " 'above',\n",
              " 'below',\n",
              " 'to',\n",
              " 'from',\n",
              " 'up',\n",
              " 'down',\n",
              " 'in',\n",
              " 'out',\n",
              " 'on',\n",
              " 'off',\n",
              " 'over',\n",
              " 'under',\n",
              " 'again',\n",
              " 'further',\n",
              " 'then',\n",
              " 'once',\n",
              " 'here',\n",
              " 'there',\n",
              " 'when',\n",
              " 'where',\n",
              " 'why',\n",
              " 'how',\n",
              " 'all',\n",
              " 'any',\n",
              " 'both',\n",
              " 'each',\n",
              " 'few',\n",
              " 'more',\n",
              " 'most',\n",
              " 'other',\n",
              " 'some',\n",
              " 'such',\n",
              " 'no',\n",
              " 'nor',\n",
              " 'not',\n",
              " 'only',\n",
              " 'own',\n",
              " 'same',\n",
              " 'so',\n",
              " 'than',\n",
              " 'too',\n",
              " 'very',\n",
              " 's',\n",
              " 't',\n",
              " 'can',\n",
              " 'will',\n",
              " 'just',\n",
              " 'don',\n",
              " \"don't\",\n",
              " 'should',\n",
              " \"should've\",\n",
              " 'now',\n",
              " 'd',\n",
              " 'll',\n",
              " 'm',\n",
              " 'o',\n",
              " 're',\n",
              " 've',\n",
              " 'y',\n",
              " 'ain',\n",
              " 'aren',\n",
              " \"aren't\",\n",
              " 'couldn',\n",
              " \"couldn't\",\n",
              " 'didn',\n",
              " \"didn't\",\n",
              " 'doesn',\n",
              " \"doesn't\",\n",
              " 'hadn',\n",
              " \"hadn't\",\n",
              " 'hasn',\n",
              " \"hasn't\",\n",
              " 'haven',\n",
              " \"haven't\",\n",
              " 'isn',\n",
              " \"isn't\",\n",
              " 'ma',\n",
              " 'mightn',\n",
              " \"mightn't\",\n",
              " 'mustn',\n",
              " \"mustn't\",\n",
              " 'needn',\n",
              " \"needn't\",\n",
              " 'shan',\n",
              " \"shan't\",\n",
              " 'shouldn',\n",
              " \"shouldn't\",\n",
              " 'wasn',\n",
              " \"wasn't\",\n",
              " 'weren',\n",
              " \"weren't\",\n",
              " 'won',\n",
              " \"won't\",\n",
              " 'wouldn',\n",
              " \"wouldn't\"]"
            ]
          },
          "metadata": {},
          "execution_count": 19
        }
      ]
    },
    {
      "cell_type": "code",
      "source": [
        "# paragraph about the APJ abdul kalam\n",
        "paragraph = '''\n",
        "Ladies and gentlemen,\n",
        "It is with great honor and humility that I stand before you today to speak about one of the most revered figures in modern history, Dr. APJ Abdul Kalam. A man whose life serves as an inspiration to millions around the world, his legacy transcends boundaries of nationality, religion, and culture.\n",
        "Dr. Kalam was not just a scientist, he was a visionary. His journey from humble beginnings to becoming the Missile Man of India and eventually the President of our great nation is a testament to the power of determination and hard work. But beyond his professional accomplishments, it was his unwavering commitment to serving humanity that truly set him apart.\n",
        "Throughout his life, Dr. Kalam emphasized the importance of education, innovation, and compassion. He believed that every individual, regardless of their background, had the potential to make a positive impact on society. His vision for India was one of progress and prosperity, built on the foundations of knowledge and unity.\n",
        "But perhaps what truly defined Dr. Kalam was his humility and simplicity. Despite achieving immense success and acclaim, he remained grounded and approachable, always willing to impart wisdom and guidance to those around him. He saw himself not as a leader, but as a facilitator, empowering others to realize their own potential and contribute to the collective betterment of society.\n",
        "'''\n",
        "sentences = sent_tokenize(paragraph)"
      ],
      "metadata": {
        "id": "eoP9EXnZbwkP"
      },
      "execution_count": 60,
      "outputs": []
    },
    {
      "cell_type": "code",
      "source": [
        "download('punkt')"
      ],
      "metadata": {
        "colab": {
          "base_uri": "https://localhost:8080/"
        },
        "id": "c3JJe212dSTy",
        "outputId": "6d83385b-3d72-4b11-a529-c11f814ca760"
      },
      "execution_count": 61,
      "outputs": [
        {
          "output_type": "stream",
          "name": "stderr",
          "text": [
            "[nltk_data] Downloading package punkt to /root/nltk_data...\n",
            "[nltk_data]   Package punkt is already up-to-date!\n"
          ]
        },
        {
          "output_type": "execute_result",
          "data": {
            "text/plain": [
              "True"
            ]
          },
          "metadata": {},
          "execution_count": 61
        }
      ]
    },
    {
      "cell_type": "code",
      "source": [
        "from nltk.stem import PorterStemmer\n",
        "from nltk.tokenize import word_tokenize,sent_tokenize"
      ],
      "metadata": {
        "id": "xijRSQzzb8Pz"
      },
      "execution_count": 62,
      "outputs": []
    },
    {
      "cell_type": "code",
      "source": [
        "# object for porter stemmer\n",
        "stemmer = PorterStemmer()"
      ],
      "metadata": {
        "id": "VjgZZiZjdzbW"
      },
      "execution_count": 63,
      "outputs": []
    },
    {
      "cell_type": "code",
      "source": [
        "# sent tokenizing\n",
        "sentences = sent_tokenize(paragraph)"
      ],
      "metadata": {
        "id": "NmHBb2bwb9bS"
      },
      "execution_count": 75,
      "outputs": []
    },
    {
      "cell_type": "code",
      "source": [
        "len(sent_tokenize(paragraph))"
      ],
      "metadata": {
        "colab": {
          "base_uri": "https://localhost:8080/"
        },
        "id": "3t90qHCvdNc6",
        "outputId": "55fe4254-3109-4234-fd6b-edbb57544264"
      },
      "execution_count": 71,
      "outputs": [
        {
          "output_type": "execute_result",
          "data": {
            "text/plain": [
              "11"
            ]
          },
          "metadata": {},
          "execution_count": 71
        }
      ]
    },
    {
      "cell_type": "code",
      "source": [
        "# using porter stemmer\n",
        "for i in range(len(sentences)):\n",
        "  words = word_tokenize(sentences[i])\n",
        "  words = [stemmer.stem(word) for word in words if word not in set(stopwords.words('english'))]\n",
        "  sentences[i] = \" \".join(words)"
      ],
      "metadata": {
        "id": "e1EiQSJtda5M"
      },
      "execution_count": 72,
      "outputs": []
    },
    {
      "cell_type": "code",
      "source": [
        "len(sentences)"
      ],
      "metadata": {
        "colab": {
          "base_uri": "https://localhost:8080/"
        },
        "id": "DIVOYcqkeCaT",
        "outputId": "b620f0f3-1e45-42f4-a7b8-4c8c13b88364"
      },
      "execution_count": 73,
      "outputs": [
        {
          "output_type": "execute_result",
          "data": {
            "text/plain": [
              "11"
            ]
          },
          "metadata": {},
          "execution_count": 73
        }
      ]
    },
    {
      "cell_type": "code",
      "source": [
        "sentences"
      ],
      "metadata": {
        "colab": {
          "base_uri": "https://localhost:8080/"
        },
        "id": "cRO02B0heQyL",
        "outputId": "20e98a81-8b08-4bbe-f6af-df0a1853d3c7"
      },
      "execution_count": 74,
      "outputs": [
        {
          "output_type": "execute_result",
          "data": {
            "text/plain": [
              "['ladi gentlemen , it great honor humil i stand today speak one rever figur modern histori , dr. apj abdul kalam .',\n",
              " 'a man whose life serv inspir million around world , legaci transcend boundari nation , religion , cultur .',\n",
              " 'dr. kalam scientist , visionari .',\n",
              " 'hi journey humbl begin becom missil man india eventu presid great nation testament power determin hard work .',\n",
              " 'but beyond profession accomplish , unwav commit serv human truli set apart .',\n",
              " 'throughout life , dr. kalam emphas import educ , innov , compass .',\n",
              " 'he believ everi individu , regardless background , potenti make posit impact societi .',\n",
              " 'hi vision india one progress prosper , built foundat knowledg uniti .',\n",
              " 'but perhap truli defin dr. kalam humil simplic .',\n",
              " 'despit achiev immens success acclaim , remain ground approach , alway will impart wisdom guidanc around .',\n",
              " 'he saw leader , facilit , empow other realiz potenti contribut collect better societi .']"
            ]
          },
          "metadata": {},
          "execution_count": 74
        }
      ]
    },
    {
      "cell_type": "code",
      "source": [
        "from  nltk.stem import SnowballStemmer"
      ],
      "metadata": {
        "id": "XXDoPivyegdt"
      },
      "execution_count": 90,
      "outputs": []
    },
    {
      "cell_type": "code",
      "source": [
        "# paragraph about the APJ abdul kalam\n",
        "paragraph = '''\n",
        "Ladies and gentlemen,\n",
        "It is with great honor and humility that I stand before you today to speak about one of the most revered figures in modern history, Dr. APJ Abdul Kalam. A man whose life serves as an inspiration to millions around the world, his legacy transcends boundaries of nationality, religion, and culture.\n",
        "Dr. Kalam was not just a scientist, he was a visionary. His journey from humble beginnings to becoming the Missile Man of India and eventually the President of our great nation is a testament to the power of determination and hard work. But beyond his professional accomplishments, it was his unwavering commitment to serving humanity that truly set him apart.\n",
        "Throughout his life, Dr. Kalam emphasized the importance of education, innovation, and compassion. He believed that every individual, regardless of their background, had the potential to make a positive impact on society. His vision for India was one of progress and prosperity, built on the foundations of knowledge and unity.\n",
        "But perhaps what truly defined Dr. Kalam was his humility and simplicity. Despite achieving immense success and acclaim, he remained grounded and approachable, always willing to impart wisdom and guidance to those around him. He saw himself not as a leader, but as a facilitator, empowering others to realize their own potential and contribute to the collective betterment of society.\n",
        "'''\n",
        "sentences = sent_tokenize(paragraph)"
      ],
      "metadata": {
        "id": "SKLAg0GygzNb"
      },
      "execution_count": 91,
      "outputs": []
    },
    {
      "cell_type": "code",
      "source": [
        "snowballstemming = SnowballStemmer('english')"
      ],
      "metadata": {
        "id": "6nm0LAl_e1_y"
      },
      "execution_count": 92,
      "outputs": []
    },
    {
      "cell_type": "code",
      "source": [
        "# using snow ball stemmer\n",
        "for i in range(len(sentences)):\n",
        "  words = word_tokenize(sentences[i])\n",
        "  words = [snowballstemming.stem(word) for word in words if word not in set(stopwords.words('english'))]\n",
        "  sentences[i] = \" \".join(words)"
      ],
      "metadata": {
        "id": "zasK9ayGe4cW"
      },
      "execution_count": 93,
      "outputs": []
    },
    {
      "cell_type": "code",
      "source": [
        "sentences"
      ],
      "metadata": {
        "colab": {
          "base_uri": "https://localhost:8080/"
        },
        "id": "_4i1YqrRfFNX",
        "outputId": "cd2bab51-4cb1-421c-cb9f-685cfbd9a991"
      },
      "execution_count": 94,
      "outputs": [
        {
          "output_type": "execute_result",
          "data": {
            "text/plain": [
              "['ladi gentlemen , it great honor humil i stand today speak one rever figur modern histori , dr. apj abdul kalam .',\n",
              " 'a man whose life serv inspir million around world , legaci transcend boundari nation , religion , cultur .',\n",
              " 'dr. kalam scientist , visionari .',\n",
              " 'his journey humbl begin becom missil man india eventu presid great nation testament power determin hard work .',\n",
              " 'but beyond profession accomplish , unwav commit serv human truli set apart .',\n",
              " 'throughout life , dr. kalam emphas import educ , innov , compass .',\n",
              " 'he believ everi individu , regardless background , potenti make posit impact societi .',\n",
              " 'his vision india one progress prosper , built foundat knowledg uniti .',\n",
              " 'but perhap truli defin dr. kalam humil simplic .',\n",
              " 'despit achiev immens success acclaim , remain ground approach , alway will impart wisdom guidanc around .',\n",
              " 'he saw leader , facilit , empow other realiz potenti contribut collect better societi .']"
            ]
          },
          "metadata": {},
          "execution_count": 94
        }
      ]
    },
    {
      "cell_type": "code",
      "source": [
        "# using lematization\n",
        "from nltk.stem import WordNetLemmatizer"
      ],
      "metadata": {
        "id": "WMTNZDLhfGIZ"
      },
      "execution_count": 95,
      "outputs": []
    },
    {
      "cell_type": "code",
      "source": [
        "# paragraph about the APJ abdul kalam\n",
        "paragraph = '''\n",
        "Ladies and gentlemen,\n",
        "It is with great honor and humility that I stand before you today to speak about one of the most revered figures in modern history, Dr. APJ Abdul Kalam. A man whose life serves as an inspiration to millions around the world, his legacy transcends boundaries of nationality, religion, and culture.\n",
        "Dr. Kalam was not just a scientist, he was a visionary. His journey from humble beginnings to becoming the Missile Man of India and eventually the President of our great nation is a testament to the power of determination and hard work. But beyond his professional accomplishments, it was his unwavering commitment to serving humanity that truly set him apart.\n",
        "Throughout his life, Dr. Kalam emphasized the importance of education, innovation, and compassion. He believed that every individual, regardless of their background, had the potential to make a positive impact on society. His vision for India was one of progress and prosperity, built on the foundations of knowledge and unity.\n",
        "But perhaps what truly defined Dr. Kalam was his humility and simplicity. Despite achieving immense success and acclaim, he remained grounded and approachable, always willing to impart wisdom and guidance to those around him. He saw himself not as a leader, but as a facilitator, empowering others to realize their own potential and contribute to the collective betterment of society.\n",
        "'''\n",
        "sentences = sent_tokenize(paragraph)"
      ],
      "metadata": {
        "id": "vpdFNCk5gufV"
      },
      "execution_count": 96,
      "outputs": []
    },
    {
      "cell_type": "code",
      "source": [
        "download('wordnet')"
      ],
      "metadata": {
        "colab": {
          "base_uri": "https://localhost:8080/"
        },
        "id": "ndSb1rDFfe8F",
        "outputId": "2214f5ac-c09e-4e72-b861-1f2a3050a2d4"
      },
      "execution_count": 97,
      "outputs": [
        {
          "output_type": "stream",
          "name": "stderr",
          "text": [
            "[nltk_data] Downloading package wordnet to /root/nltk_data...\n",
            "[nltk_data]   Package wordnet is already up-to-date!\n"
          ]
        },
        {
          "output_type": "execute_result",
          "data": {
            "text/plain": [
              "True"
            ]
          },
          "metadata": {},
          "execution_count": 97
        }
      ]
    },
    {
      "cell_type": "code",
      "source": [
        "# Creating object\n",
        "lematizer = WordNetLemmatizer()"
      ],
      "metadata": {
        "id": "qnk7CroafhEy"
      },
      "execution_count": 98,
      "outputs": []
    },
    {
      "cell_type": "code",
      "source": [
        "# using snow ball stemmer\n",
        "for i in range(len(sentences)):\n",
        "  words = word_tokenize(sentences[i])\n",
        "  words = [lematizer.lemmatize(word,pos='v') for word in words if word not in set(stopwords.words('english'))]\n",
        "  sentences[i] = \" \".join(words)"
      ],
      "metadata": {
        "id": "_jqjvHthfldB"
      },
      "execution_count": 99,
      "outputs": []
    },
    {
      "cell_type": "code",
      "source": [
        "sentences"
      ],
      "metadata": {
        "colab": {
          "base_uri": "https://localhost:8080/"
        },
        "id": "QiqqmHD5f1zE",
        "outputId": "3fbcfae3-e7bf-4414-bed8-c722b4b1972b"
      },
      "execution_count": 100,
      "outputs": [
        {
          "output_type": "execute_result",
          "data": {
            "text/plain": [
              "['Ladies gentlemen , It great honor humility I stand today speak one revere figure modern history , Dr. APJ Abdul Kalam .',\n",
              " 'A man whose life serve inspiration millions around world , legacy transcend boundaries nationality , religion , culture .',\n",
              " 'Dr. Kalam scientist , visionary .',\n",
              " 'His journey humble beginnings become Missile Man India eventually President great nation testament power determination hard work .',\n",
              " 'But beyond professional accomplishments , unwavering commitment serve humanity truly set apart .',\n",
              " 'Throughout life , Dr. Kalam emphasize importance education , innovation , compassion .',\n",
              " 'He believe every individual , regardless background , potential make positive impact society .',\n",
              " 'His vision India one progress prosperity , build foundations knowledge unity .',\n",
              " 'But perhaps truly define Dr. Kalam humility simplicity .',\n",
              " 'Despite achieve immense success acclaim , remain ground approachable , always will impart wisdom guidance around .',\n",
              " 'He saw leader , facilitator , empower others realize potential contribute collective betterment society .']"
            ]
          },
          "metadata": {},
          "execution_count": 100
        }
      ]
    }
  ]
}