{
  "nbformat": 4,
  "nbformat_minor": 0,
  "metadata": {
    "colab": {
      "provenance": []
    },
    "kernelspec": {
      "name": "python3",
      "display_name": "Python 3"
    },
    "language_info": {
      "name": "python"
    }
  },
  "cells": [
    {
      "cell_type": "markdown",
      "source": [
        "### STEMMING:\n",
        "* Stemming is the process of producing morphological variants of a root/base word. Stemming programs are commonly referred to as stemming algorithms or stemmers. A stemming algorithm reduces the words “chocolates”, “chocolatey”, and “choco” to the root word, “chocolate” and “retrieval”, “retrieved”, “retrieves” reduce to the stem “retrieve”.\n",
        "1. PorterStemmer\n",
        "2. SnowBallStemmer / porter2 stemmer\n",
        "3. RegrxpStemmer\n",
        "- porter stemmer : The Porter stemming algorithm (or 'Porter stemmer') is a process for removing the commoner morphological and inflexional endings from words in English.\n",
        "- Snow ball Stemmer : Snowball Stemmer: It is a stemming algorithm which is also known as the Porter2 stemming algorithm as it is a better version of the Porter Stemmer since some issues of it were fixed in this stemmer.\n",
        "- regrexpStemming : RegexpStemmer (regexp, min=0)[source] A stemmer that uses regular expressions to identify morphological affixes. Any substrings that match the regular expressions will be removed."
      ],
      "metadata": {
        "id": "SpZbjQxDfZ6f"
      }
    },
    {
      "cell_type": "code",
      "source": [
        "# words\n",
        "words = [\"eating\",'eaten','going','goes','history','running','ran']"
      ],
      "metadata": {
        "id": "8F31d8ihgHVj"
      },
      "execution_count": 3,
      "outputs": []
    },
    {
      "cell_type": "code",
      "execution_count": 1,
      "metadata": {
        "id": "udbgCIiMfLq-"
      },
      "outputs": [],
      "source": [
        "from nltk.stem import PorterStemmer"
      ]
    },
    {
      "cell_type": "code",
      "source": [
        "stemming = PorterStemmer()"
      ],
      "metadata": {
        "id": "S7VF48L-gnc5"
      },
      "execution_count": 18,
      "outputs": []
    },
    {
      "cell_type": "code",
      "source": [
        "for word in words:\n",
        "  print(word + \" ----> \" + stemming.stem(word))"
      ],
      "metadata": {
        "colab": {
          "base_uri": "https://localhost:8080/"
        },
        "id": "tIcoSq6LgF0N",
        "outputId": "47696226-0149-4f84-b88e-49eeca0df4f1"
      },
      "execution_count": 19,
      "outputs": [
        {
          "output_type": "stream",
          "name": "stdout",
          "text": [
            "eating ----> eat\n",
            "eaten ----> eaten\n",
            "going ----> go\n",
            "goes ----> goe\n",
            "history ----> histori\n",
            "running ----> run\n",
            "ran ----> ran\n"
          ]
        }
      ]
    },
    {
      "cell_type": "code",
      "source": [
        "from nltk.stem import SnowballStemmer"
      ],
      "metadata": {
        "id": "T3OSaaXRgZfB"
      },
      "execution_count": 20,
      "outputs": []
    },
    {
      "cell_type": "code",
      "source": [
        "# creating a object of the snowball stemming\n",
        "snowballstemming = SnowballStemmer('english')"
      ],
      "metadata": {
        "id": "gGAQoZlehVop"
      },
      "execution_count": 21,
      "outputs": []
    },
    {
      "cell_type": "code",
      "source": [
        "for word in words:\n",
        "  print(word + \" ---> \"+snowballstemming.stem(word))"
      ],
      "metadata": {
        "colab": {
          "base_uri": "https://localhost:8080/"
        },
        "id": "edzWkftthtC5",
        "outputId": "f4344ed8-c5b1-46f3-f09c-1785439f1de8"
      },
      "execution_count": 22,
      "outputs": [
        {
          "output_type": "stream",
          "name": "stdout",
          "text": [
            "eating ---> eat\n",
            "eaten ---> eaten\n",
            "going ---> go\n",
            "goes ---> goe\n",
            "history ---> histori\n",
            "running ---> run\n",
            "ran ---> ran\n"
          ]
        }
      ]
    },
    {
      "cell_type": "code",
      "source": [
        "snowballstemming.stem('fairly')"
      ],
      "metadata": {
        "colab": {
          "base_uri": "https://localhost:8080/",
          "height": 56
        },
        "id": "YEMeJzqxhxDf",
        "outputId": "828336c5-2762-4d54-ac9c-f9c0cf78d24e"
      },
      "execution_count": 16,
      "outputs": [
        {
          "output_type": "execute_result",
          "data": {
            "text/plain": [
              "'fair'"
            ],
            "application/vnd.google.colaboratory.intrinsic+json": {
              "type": "string"
            }
          },
          "metadata": {},
          "execution_count": 16
        }
      ]
    },
    {
      "cell_type": "code",
      "source": [
        "snowballstemming.stem('sportingly')"
      ],
      "metadata": {
        "colab": {
          "base_uri": "https://localhost:8080/",
          "height": 56
        },
        "id": "HI1_ku6tiPQW",
        "outputId": "3447ae64-1f88-4564-a5a6-7e57a4a5d0b8"
      },
      "execution_count": 17,
      "outputs": [
        {
          "output_type": "execute_result",
          "data": {
            "text/plain": [
              "'sport'"
            ],
            "application/vnd.google.colaboratory.intrinsic+json": {
              "type": "string"
            }
          },
          "metadata": {},
          "execution_count": 17
        }
      ]
    },
    {
      "cell_type": "code",
      "source": [
        "from nltk.stem import RegexpStemmer"
      ],
      "metadata": {
        "id": "r1uenogoiRlJ"
      },
      "execution_count": 23,
      "outputs": []
    },
    {
      "cell_type": "code",
      "source": [
        "regrexStemming = RegexpStemmer('ing$|s$|e$|able$', min=4)"
      ],
      "metadata": {
        "id": "iMhUdQoxiZ3h"
      },
      "execution_count": 24,
      "outputs": []
    },
    {
      "cell_type": "code",
      "source": [
        "for word in words:\n",
        "  print(word + \" ----> \" + regrexStemming.stem(word))"
      ],
      "metadata": {
        "colab": {
          "base_uri": "https://localhost:8080/"
        },
        "id": "Q0LngSRPiqf0",
        "outputId": "1d9b7134-e10d-4f02-ca83-b0e1ccea112d"
      },
      "execution_count": 25,
      "outputs": [
        {
          "output_type": "stream",
          "name": "stdout",
          "text": [
            "eating ----> eat\n",
            "eaten ----> eaten\n",
            "going ----> go\n",
            "goes ----> goe\n",
            "history ----> history\n",
            "running ----> runn\n",
            "ran ----> ran\n"
          ]
        }
      ]
    }
  ]
}