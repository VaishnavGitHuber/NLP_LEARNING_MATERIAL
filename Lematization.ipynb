{
  "nbformat": 4,
  "nbformat_minor": 0,
  "metadata": {
    "colab": {
      "provenance": []
    },
    "kernelspec": {
      "name": "python3",
      "display_name": "Python 3"
    },
    "language_info": {
      "name": "python"
    }
  },
  "cells": [
    {
      "cell_type": "markdown",
      "source": [
        "#### WORDNET LEMMATIZER\n",
        "* Lematization technique is like stemming. The output we get after lematization is called 'lemma' which is the root word rather than root stem.\n",
        "* NLTK provide wordnet lematizer class which is a thin wrapper around the word net corpus.This class uses morphy() finction to the WordNetCorpusReader to find lemma.\n",
        "* Lematizer is slower than the stemmer  "
      ],
      "metadata": {
        "id": "2zuNZT63mwBH"
      }
    },
    {
      "cell_type": "code",
      "execution_count": 1,
      "metadata": {
        "id": "d24gf0WomU3W"
      },
      "outputs": [],
      "source": [
        "words = [\"running\",'jumping','finally','final','going','goes']"
      ]
    },
    {
      "cell_type": "code",
      "source": [
        "# importing the wordnet lematizer\n",
        "from nltk import download\n",
        "from nltk.stem import WordNetLemmatizer"
      ],
      "metadata": {
        "id": "qU3woXGznvO6"
      },
      "execution_count": 6,
      "outputs": []
    },
    {
      "cell_type": "code",
      "source": [
        "download('wordnet')"
      ],
      "metadata": {
        "colab": {
          "base_uri": "https://localhost:8080/"
        },
        "id": "Z2s2Qwrcoe43",
        "outputId": "327af8c7-a506-407e-f100-04c8eb840863"
      },
      "execution_count": 7,
      "outputs": [
        {
          "output_type": "stream",
          "name": "stderr",
          "text": [
            "[nltk_data] Downloading package wordnet to /root/nltk_data...\n"
          ]
        },
        {
          "output_type": "execute_result",
          "data": {
            "text/plain": [
              "True"
            ]
          },
          "metadata": {},
          "execution_count": 7
        }
      ]
    },
    {
      "cell_type": "code",
      "source": [
        "lematizer = WordNetLemmatizer()"
      ],
      "metadata": {
        "id": "CAzLSiySoCjD"
      },
      "execution_count": 8,
      "outputs": []
    },
    {
      "cell_type": "code",
      "source": [
        "'''\n",
        "POS: Noun - n\n",
        "verb - v\n",
        "adjective - a\n",
        "adverb - r\n",
        "'''\n",
        "lematizer.lemmatize('running',pos='v')"
      ],
      "metadata": {
        "colab": {
          "base_uri": "https://localhost:8080/",
          "height": 56
        },
        "id": "RrLeSO5boGOr",
        "outputId": "601ba98c-55c8-4a87-8f3e-be074f7c7c09"
      },
      "execution_count": 13,
      "outputs": [
        {
          "output_type": "execute_result",
          "data": {
            "text/plain": [
              "'run'"
            ],
            "application/vnd.google.colaboratory.intrinsic+json": {
              "type": "string"
            }
          },
          "metadata": {},
          "execution_count": 13
        }
      ]
    },
    {
      "cell_type": "code",
      "source": [
        "for word in words:\n",
        "  print(word + \" ---> \" + lematizer.lemmatize(word,pos='n'))"
      ],
      "metadata": {
        "colab": {
          "base_uri": "https://localhost:8080/"
        },
        "id": "sTlFwyvJoLFr",
        "outputId": "12e382e4-43d7-48ca-b492-0a9d203d7312"
      },
      "execution_count": 15,
      "outputs": [
        {
          "output_type": "stream",
          "name": "stdout",
          "text": [
            "running ---> running\n",
            "jumping ---> jumping\n",
            "finally ---> finally\n",
            "final ---> final\n",
            "going ---> going\n",
            "goes ---> go\n"
          ]
        }
      ]
    },
    {
      "cell_type": "code",
      "source": [
        "for word in words:\n",
        "  print(word + \" ---> \" + lematizer.lemmatize(word,pos='v'))"
      ],
      "metadata": {
        "colab": {
          "base_uri": "https://localhost:8080/"
        },
        "id": "qtd9EWUXpCrM",
        "outputId": "d4d86136-076a-441f-e7c1-31eae07145bf"
      },
      "execution_count": 16,
      "outputs": [
        {
          "output_type": "stream",
          "name": "stdout",
          "text": [
            "running ---> run\n",
            "jumping ---> jump\n",
            "finally ---> finally\n",
            "final ---> final\n",
            "going ---> go\n",
            "goes ---> go\n"
          ]
        }
      ]
    }
  ]
}