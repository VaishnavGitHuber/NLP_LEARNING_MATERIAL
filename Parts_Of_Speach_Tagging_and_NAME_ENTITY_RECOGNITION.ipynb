{
  "nbformat": 4,
  "nbformat_minor": 0,
  "metadata": {
    "colab": {
      "provenance": []
    },
    "kernelspec": {
      "name": "python3",
      "display_name": "Python 3"
    },
    "language_info": {
      "name": "python"
    }
  },
  "cells": [
    {
      "cell_type": "code",
      "execution_count": 19,
      "metadata": {
        "id": "LVYO_7WKMQU0"
      },
      "outputs": [],
      "source": [
        "paragraph = '''\n",
        "These are short, famous texts in English from classic sources like the Bible or Shakespeare.\n",
        " Some texts have word definitions and explanations to help you. Some of these texts are written\n",
        " in an old style of English. Try to understand them, because the English that we speak today is based\n",
        " on what our great, great, great, great grandparents spoke before! Of course, not all these texts were\n",
        " originally written in English. The Bible, for example, is a translation. But they are all well known in\n",
        " English today, and many of them express beautiful thoughts.\n",
        "'''"
      ]
    },
    {
      "cell_type": "code",
      "source": [
        "# importing the necessory words\n",
        "import nltk\n",
        "from nltk import download\n",
        "from nltk.stem import PorterStemmer\n",
        "from nltk.tokenize import word_tokenize,sent_tokenize\n",
        "from nltk.corpus import stopwords"
      ],
      "metadata": {
        "id": "0aEgpswgMlqN"
      },
      "execution_count": 4,
      "outputs": []
    },
    {
      "cell_type": "code",
      "source": [
        "download('punkt')\n",
        "download('stopwords')\n",
        "download('averaged_perceptron_tagger')"
      ],
      "metadata": {
        "colab": {
          "base_uri": "https://localhost:8080/"
        },
        "id": "bzBnGrAhNQaJ",
        "outputId": "5943e80b-b5a1-404c-966b-cc95de8d1e52"
      },
      "execution_count": 33,
      "outputs": [
        {
          "output_type": "stream",
          "name": "stderr",
          "text": [
            "[nltk_data] Downloading package punkt to /root/nltk_data...\n",
            "[nltk_data]   Package punkt is already up-to-date!\n",
            "[nltk_data] Downloading package stopwords to /root/nltk_data...\n",
            "[nltk_data]   Package stopwords is already up-to-date!\n",
            "[nltk_data] Downloading package averaged_perceptron_tagger to\n",
            "[nltk_data]     /root/nltk_data...\n",
            "[nltk_data]   Unzipping taggers/averaged_perceptron_tagger.zip.\n"
          ]
        },
        {
          "output_type": "execute_result",
          "data": {
            "text/plain": [
              "True"
            ]
          },
          "metadata": {},
          "execution_count": 33
        }
      ]
    },
    {
      "cell_type": "code",
      "source": [
        "# sentences\n",
        "sentences = sent_tokenize(paragraph)"
      ],
      "metadata": {
        "id": "FwbJXzwMNAQw"
      },
      "execution_count": 27,
      "outputs": []
    },
    {
      "cell_type": "code",
      "source": [
        "sentences[0]"
      ],
      "metadata": {
        "colab": {
          "base_uri": "https://localhost:8080/",
          "height": 72
        },
        "id": "klmyUp2INHzv",
        "outputId": "04963bd4-3a18-4a75-c663-8619fa429c73"
      },
      "execution_count": 28,
      "outputs": [
        {
          "output_type": "execute_result",
          "data": {
            "text/plain": [
              "'\\nThese are short, famous texts in English from classic sources like the Bible or Shakespeare.'"
            ],
            "application/vnd.google.colaboratory.intrinsic+json": {
              "type": "string"
            }
          },
          "metadata": {},
          "execution_count": 28
        }
      ]
    },
    {
      "cell_type": "code",
      "source": [
        "stemmer = PorterStemmer()"
      ],
      "metadata": {
        "id": "pxOax769N2Fj"
      },
      "execution_count": 29,
      "outputs": []
    },
    {
      "cell_type": "code",
      "source": [
        "# applying stop words after tokenising to words\n",
        "for i in range(len(sentences)):\n",
        "  words = word_tokenize(sentences[i])\n",
        "  words = [stemmer.stem(word) for word in words if word not in stopwords.words('english')]\n",
        "  print(nltk.pos_tag(words))"
      ],
      "metadata": {
        "colab": {
          "base_uri": "https://localhost:8080/"
        },
        "id": "gmrXUKfoNaRu",
        "outputId": "3c9dc858-510c-4835-b746-7f0cb43fba4c"
      },
      "execution_count": 40,
      "outputs": [
        {
          "output_type": "stream",
          "name": "stdout",
          "text": [
            "[('short', 'JJ'), (',', ','), ('famou', 'JJ'), ('text', 'NN'), ('english', 'JJ'), ('classic', 'JJ'), ('sourc', 'NN'), ('like', 'IN'), ('bibl', 'NN'), ('shakespear', 'NN'), ('.', '.')]\n",
            "[('text', 'NN'), ('word', 'NN'), ('definit', 'NN'), ('explan', 'NN'), ('help', 'NN'), ('.', '.')]\n",
            "[('text', 'NN'), ('written', 'VBN'), ('old', 'JJ'), ('style', 'NN'), ('english', 'NN'), ('.', '.')]\n",
            "[('tri', 'NN'), ('understand', 'NN'), (',', ','), ('english', 'JJ'), ('speak', 'NN'), ('today', 'NN'), ('base', 'NN'), ('great', 'JJ'), (',', ','), ('great', 'JJ'), (',', ','), ('great', 'JJ'), (',', ','), ('great', 'JJ'), ('grandpar', 'JJ'), ('spoke', 'NN'), ('!', '.')]\n",
            "[('cour', 'NN'), (',', ','), ('text', 'JJ'), ('origin', 'NN'), ('written', 'VBN'), ('english', 'JJ'), ('.', '.')]\n",
            "[('bibl', 'NN'), (',', ','), ('exampl', 'NN'), (',', ','), ('translat', 'NN'), ('.', '.')]\n",
            "[('well', 'RB'), ('known', 'VBN'), ('english', 'JJ'), ('today', 'NN'), (',', ','), ('mani', 'NNP'), ('express', 'NN'), ('beauti', 'NN'), ('thought', 'NN'), ('.', '.')]\n"
          ]
        }
      ]
    },
    {
      "cell_type": "code",
      "source": [
        "nltk.pos_tag(sentences[0].split())"
      ],
      "metadata": {
        "colab": {
          "base_uri": "https://localhost:8080/"
        },
        "id": "qxfOS2wzNiub",
        "outputId": "47a6a4a5-1418-4809-c057-e2dbae329779"
      },
      "execution_count": 35,
      "outputs": [
        {
          "output_type": "execute_result",
          "data": {
            "text/plain": [
              "[('these', 'DT'),\n",
              " ('short', 'JJ'),\n",
              " (',', ','),\n",
              " ('famou', 'JJ'),\n",
              " ('text', 'NN'),\n",
              " ('english', 'JJ'),\n",
              " ('classic', 'JJ'),\n",
              " ('sourc', 'NN'),\n",
              " ('like', 'IN'),\n",
              " ('bibl', 'NN'),\n",
              " ('shakespear', 'NN'),\n",
              " ('.', '.')]"
            ]
          },
          "metadata": {},
          "execution_count": 35
        }
      ]
    },
    {
      "cell_type": "code",
      "source": [
        "s = 'Taj Mahal is very Beautiful Monument'\n",
        "nltk.pos_tag(s.split())"
      ],
      "metadata": {
        "colab": {
          "base_uri": "https://localhost:8080/"
        },
        "id": "B77u0EVyOpHh",
        "outputId": "3ba7cbf5-8b36-455e-cc22-525610e1e64b"
      },
      "execution_count": 36,
      "outputs": [
        {
          "output_type": "execute_result",
          "data": {
            "text/plain": [
              "[('Taj', 'NNP'),\n",
              " ('Mahal', 'NNP'),\n",
              " ('is', 'VBZ'),\n",
              " ('very', 'RB'),\n",
              " ('Beautiful', 'JJ'),\n",
              " ('Monument', 'NN')]"
            ]
          },
          "metadata": {},
          "execution_count": 36
        }
      ]
    },
    {
      "cell_type": "markdown",
      "source": [
        "### NAME ENTITY RECOGNITION"
      ],
      "metadata": {
        "id": "f4wEFsFARCfQ"
      }
    },
    {
      "cell_type": "code",
      "source": [
        "tag_elements = nltk.pos_tag(s.split())"
      ],
      "metadata": {
        "id": "NCgU5BhtRE7Y"
      },
      "execution_count": 41,
      "outputs": []
    },
    {
      "cell_type": "code",
      "source": [
        "download('maxent_ne_chunker')\n",
        "download('words')"
      ],
      "metadata": {
        "colab": {
          "base_uri": "https://localhost:8080/"
        },
        "id": "EpF5uXf9RT_y",
        "outputId": "ca9b7724-ae13-43b6-8c46-2aff23329f44"
      },
      "execution_count": 45,
      "outputs": [
        {
          "output_type": "stream",
          "name": "stderr",
          "text": [
            "[nltk_data] Downloading package maxent_ne_chunker to\n",
            "[nltk_data]     /root/nltk_data...\n",
            "[nltk_data]   Package maxent_ne_chunker is already up-to-date!\n",
            "[nltk_data] Downloading package words to /root/nltk_data...\n",
            "[nltk_data]   Unzipping corpora/words.zip.\n"
          ]
        },
        {
          "output_type": "execute_result",
          "data": {
            "text/plain": [
              "True"
            ]
          },
          "metadata": {},
          "execution_count": 45
        }
      ]
    },
    {
      "cell_type": "code",
      "source": [
        "!pip install svgling"
      ],
      "metadata": {
        "colab": {
          "base_uri": "https://localhost:8080/"
        },
        "id": "2Ay55uzGSTKY",
        "outputId": "091b0923-0465-4798-acb3-0aaa0003b40f"
      },
      "execution_count": 55,
      "outputs": [
        {
          "output_type": "stream",
          "name": "stdout",
          "text": [
            "Collecting svgling\n",
            "  Downloading svgling-0.4.0-py3-none-any.whl (23 kB)\n",
            "Collecting svgwrite (from svgling)\n",
            "  Downloading svgwrite-1.4.3-py3-none-any.whl (67 kB)\n",
            "\u001b[2K     \u001b[90m━━━━━━━━━━━━━━━━━━━━━━━━━━━━━━━━━━━━━━━━\u001b[0m \u001b[32m67.1/67.1 kB\u001b[0m \u001b[31m2.5 MB/s\u001b[0m eta \u001b[36m0:00:00\u001b[0m\n",
            "\u001b[?25hInstalling collected packages: svgwrite, svgling\n",
            "Successfully installed svgling-0.4.0 svgwrite-1.4.3\n"
          ]
        }
      ]
    },
    {
      "cell_type": "code",
      "source": [
        "import svgling"
      ],
      "metadata": {
        "id": "FuoIEdukRRTp"
      },
      "execution_count": 58,
      "outputs": []
    },
    {
      "cell_type": "code",
      "source": [
        "nltk.ne_chunk(nltk.pos_tag(\"Taj Mahal is Beautiful\".split()))"
      ],
      "metadata": {
        "colab": {
          "base_uri": "https://localhost:8080/",
          "height": 209
        },
        "id": "FMzAitDZRJs7",
        "outputId": "756770e1-ddc2-41b7-ccad-bd0957008997"
      },
      "execution_count": 56,
      "outputs": [
        {
          "output_type": "execute_result",
          "data": {
            "text/plain": [
              "Tree('S', [Tree('PERSON', [('Taj', 'NNP')]), Tree('ORGANIZATION', [('Mahal', 'NNP')]), ('is', 'VBZ'), ('Beautiful', 'JJ')])"
            ],
            "image/svg+xml": "<svg baseProfile=\"full\" height=\"168px\" preserveAspectRatio=\"xMidYMid meet\" style=\"font-family: times, serif; font-weight: normal; font-style: normal; font-size: 16px;\" version=\"1.1\" viewBox=\"0,0,304.0,168.0\" width=\"304px\" xmlns=\"http://www.w3.org/2000/svg\" xmlns:ev=\"http://www.w3.org/2001/xml-events\" xmlns:xlink=\"http://www.w3.org/1999/xlink\"><defs /><svg width=\"100%\" x=\"0\" y=\"0px\"><defs /><text text-anchor=\"middle\" x=\"50%\" y=\"16px\">S</text></svg><svg width=\"21.0526%\" x=\"0%\" y=\"48px\"><defs /><svg width=\"100%\" x=\"0\" y=\"0px\"><defs /><text text-anchor=\"middle\" x=\"50%\" y=\"16px\">PERSON</text></svg><svg width=\"100%\" x=\"0%\" y=\"48px\"><defs /><svg width=\"100%\" x=\"0\" y=\"0px\"><defs /><text text-anchor=\"middle\" x=\"50%\" y=\"16px\">Taj</text></svg><svg width=\"100%\" x=\"0%\" y=\"48px\"><defs /><svg width=\"100%\" x=\"0\" y=\"0px\"><defs /><text text-anchor=\"middle\" x=\"50%\" y=\"16px\">NNP</text></svg></svg><line stroke=\"black\" x1=\"50%\" x2=\"50%\" y1=\"19.2px\" y2=\"48px\" /></svg><line stroke=\"black\" x1=\"50%\" x2=\"50%\" y1=\"19.2px\" y2=\"48px\" /></svg><line stroke=\"black\" x1=\"50%\" x2=\"10.5263%\" y1=\"19.2px\" y2=\"48px\" /><svg width=\"36.8421%\" x=\"21.0526%\" y=\"48px\"><defs /><svg width=\"100%\" x=\"0\" y=\"0px\"><defs /><text text-anchor=\"middle\" x=\"50%\" y=\"16px\">ORGANIZATION</text></svg><svg width=\"100%\" x=\"0%\" y=\"48px\"><defs /><svg width=\"100%\" x=\"0\" y=\"0px\"><defs /><text text-anchor=\"middle\" x=\"50%\" y=\"16px\">Mahal</text></svg><svg width=\"100%\" x=\"0%\" y=\"48px\"><defs /><svg width=\"100%\" x=\"0\" y=\"0px\"><defs /><text text-anchor=\"middle\" x=\"50%\" y=\"16px\">NNP</text></svg></svg><line stroke=\"black\" x1=\"50%\" x2=\"50%\" y1=\"19.2px\" y2=\"48px\" /></svg><line stroke=\"black\" x1=\"50%\" x2=\"50%\" y1=\"19.2px\" y2=\"48px\" /></svg><line stroke=\"black\" x1=\"50%\" x2=\"39.4737%\" y1=\"19.2px\" y2=\"48px\" /><svg width=\"13.1579%\" x=\"57.8947%\" y=\"48px\"><defs /><svg width=\"100%\" x=\"0\" y=\"0px\"><defs /><text text-anchor=\"middle\" x=\"50%\" y=\"16px\">is</text></svg><svg width=\"100%\" x=\"0%\" y=\"48px\"><defs /><svg width=\"100%\" x=\"0\" y=\"0px\"><defs /><text text-anchor=\"middle\" x=\"50%\" y=\"16px\">VBZ</text></svg></svg><line stroke=\"black\" x1=\"50%\" x2=\"50%\" y1=\"19.2px\" y2=\"48px\" /></svg><line stroke=\"black\" x1=\"50%\" x2=\"64.4737%\" y1=\"19.2px\" y2=\"48px\" /><svg width=\"28.9474%\" x=\"71.0526%\" y=\"48px\"><defs /><svg width=\"100%\" x=\"0\" y=\"0px\"><defs /><text text-anchor=\"middle\" x=\"50%\" y=\"16px\">Beautiful</text></svg><svg width=\"100%\" x=\"0%\" y=\"48px\"><defs /><svg width=\"100%\" x=\"0\" y=\"0px\"><defs /><text text-anchor=\"middle\" x=\"50%\" y=\"16px\">JJ</text></svg></svg><line stroke=\"black\" x1=\"50%\" x2=\"50%\" y1=\"19.2px\" y2=\"48px\" /></svg><line stroke=\"black\" x1=\"50%\" x2=\"85.5263%\" y1=\"19.2px\" y2=\"48px\" /></svg>"
          },
          "metadata": {},
          "execution_count": 56
        }
      ]
    },
    {
      "cell_type": "code",
      "source": [],
      "metadata": {
        "id": "9JAOPmWNScCB"
      },
      "execution_count": null,
      "outputs": []
    }
  ]
}